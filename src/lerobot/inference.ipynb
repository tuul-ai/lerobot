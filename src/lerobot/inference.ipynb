{
  "cells": [
    {
      "cell_type": "code",
      "execution_count": 1,
      "metadata": {},
      "outputs": [],
      "source": [
        "import time\n",
        "import torch\n",
        "import numpy as np\n",
        "from pathlib import Path\n",
        "\n",
        "# LeRobot imports\n",
        "from lerobot.cameras.opencv.configuration_opencv import OpenCVCameraConfig\n",
        "from lerobot.policies.act.modeling_act import ACTPolicy\n",
        "from lerobot.policies.smolvla.modeling_smolvla import SmolVLAPolicy\n",
        "from lerobot.robots.so100_follower.config_so100_follower import SO100FollowerConfig\n",
        "from lerobot.robots.so100_follower.so100_follower import SO100Follower\n",
        "from lerobot.robots.bi_so100_follower.config_bi_so100_follower import BiSO100FollowerConfig\n",
        "from lerobot.robots.bi_so100_follower.bi_so100_follower import BiSO100Follower\n",
        "from lerobot.utils.control_utils import init_keyboard_listener, predict_action\n",
        "from lerobot.utils.utils import (log_say, get_safe_torch_device)\n"
      ]
    },
    {
      "cell_type": "code",
      "execution_count": null,
      "metadata": {},
      "outputs": [],
      "source": [
        "def write_calibration(robot):\n",
        "    # Write calibration to motors BEFORE connecting\n",
        "    if robot.left_arm.calibration:\n",
        "        robot.left_arm.bus.connect()\n",
        "        robot.left_arm.bus.write_calibration(robot.left_arm.calibration)\n",
        "        # Verify it worked\n",
        "        motor_cal = robot.left_arm.bus.read_calibration()\n",
        "        if motor_cal == robot.left_arm.calibration:\n",
        "            print(\"✓ Left arm calibration verified\")\n",
        "        else:\n",
        "            print(\"⚠️ Left arm calibration mismatch!\")\n",
        "        robot.left_arm.bus.disconnect()\n",
        "\n",
        "    if robot.right_arm.calibration:\n",
        "        robot.right_arm.bus.connect()  \n",
        "        robot.right_arm.bus.write_calibration(robot.right_arm.calibration)\n",
        "        # Verify it worked\n",
        "        motor_cal = robot.right_arm.bus.read_calibration()\n",
        "        if motor_cal == robot.right_arm.calibration:\n",
        "            print(\"✓ Right arm calibration verified\")\n",
        "        else:\n",
        "            print(\"⚠️ Right arm calibration mismatch!\")\n",
        "        robot.right_arm.bus.disconnect()\n",
        "\n",
        "    print(\"✓ Calibration written to motors\")"
      ]
    },
    {
      "cell_type": "code",
      "execution_count": 2,
      "metadata": {},
      "outputs": [],
      "source": [
        "INFERENCE_TIME_SEC = 30  # How long to run inference\n",
        "FPS = 30                 # Control frequency\n",
        "DEVICE = \"mps\"          # \"cuda\", \"mps\", or \"cpu\"\n",
        "TASK_DESCRIPTION = \"Put the red block in the blue bin\"\n",
        "\n",
        "LEFT_PORT = \"/dev/tty.usbmodem58760435551\"  # Update for your robot\n",
        "RIGHT_PORT = \"/dev/tty.usbmodem58FA0922121\"\n",
        "\n",
        "CAMERA_CONFIG = {\n",
        "    \"left\": OpenCVCameraConfig(index_or_path=1, width=640, height=480, fps=FPS),\n",
        "    \"right\": OpenCVCameraConfig(index_or_path=0, width=640, height=480, fps=FPS),\n",
        "    \"top\": OpenCVCameraConfig(index_or_path=2, width=640, height=480, fps=FPS)\n",
        "}\n",
        "\n",
        "POLICY_TYPE = \"smolvla\"  # \"act\" or \"smolvla\"\n",
        "#POLICY_PATH = \"/Users/shreyas/Downloads/robots/policies/smolvla/020000/pretrained_model\"\n",
        "POLICY_PATH = \"/Users/shreyas/Downloads/robots/policies/tedrake/020000/pretrained_model\""
      ]
    },
    {
      "cell_type": "code",
      "execution_count": null,
      "metadata": {},
      "outputs": [
        {
          "name": "stdout",
          "output_type": "stream",
          "text": [
            "✓ Robot configured\n",
            "Left arm calibration path: /Users/shreyas/.cache/huggingface/lerobot/calibration/robots/so100_follower/bimanual_follower_left.json\n",
            "Right arm calibration path: /Users/shreyas/.cache/huggingface/lerobot/calibration/robots/so100_follower/bimanual_follower_right.json\n",
            "✓ Calibration written to motors\n"
          ]
        },
        {
          "name": "stderr",
          "output_type": "stream",
          "text": [
            "2025-07-19 07:10:24.493 python[56932:30113544] WARNING: AVCaptureDeviceTypeExternal is deprecated for Continuity Cameras. Please use AVCaptureDeviceTypeContinuityCamera and add NSCameraUseContinuityCameraDeviceType to your Info.plist.\n"
          ]
        }
      ],
      "source": [
        "# Create robot configuration\n",
        "robot_config = BiSO100FollowerConfig(\n",
        "    left_arm_port=LEFT_PORT,\n",
        "    right_arm_port=RIGHT_PORT,\n",
        "    id=\"bimanual_follower\", \n",
        "    cameras=CAMERA_CONFIG\n",
        ")\n",
        "\n",
        "# Initialize robot\n",
        "robot = BiSO100Follower(robot_config)\n",
        "print(\"✓ Robot configured\")\n",
        "#print(f\"Left arm calibration path: {robot.left_arm.calibration_fpath}\")\n",
        "#print(f\"Right arm calibration path: {robot.right_arm.calibration_fpath}\")"
      ]
    },
    {
      "cell_type": "code",
      "execution_count": null,
      "metadata": {},
      "outputs": [],
      "source": [
        "# Load policy (automatically handles Tedrake normalization if trained with it)\n",
        "if POLICY_TYPE == \"act\":\n",
        "    policy = ACTPolicy.from_pretrained(POLICY_PATH)\n",
        "elif POLICY_TYPE == \"smolvla\":\n",
        "    policy = SmolVLAPolicy.from_pretrained(POLICY_PATH)\n",
        "else:\n",
        "    raise ValueError(f\"Unsupported policy type: {POLICY_TYPE}\")\n",
        "\n",
        "policy.to(DEVICE)\n",
        "print(f\"✓ Loaded {POLICY_TYPE} policy from: {POLICY_PATH}\")\n",
        "print(f\"✓ Policy moved to device: {DEVICE}\")\n"
      ]
    },
    {
      "cell_type": "code",
      "execution_count": null,
      "metadata": {},
      "outputs": [],
      "source": [
        "# Setup keyboard listener for real-time control\n",
        "#_, events = init_keyboard_listener()\n",
        "#print(\"✓ Keyboard listener initialized\")\n",
        "#print(\"   ESC: Stop | SPACE: Pause/Resume | R: Reset\")\n"
      ]
    },
    {
      "cell_type": "code",
      "execution_count": null,
      "metadata": {},
      "outputs": [],
      "source": [
        "from lerobot.datasets.utils import build_dataset_frame, hw_to_dataset_features\n",
        "# Configure the dataset features\n",
        "action_features = hw_to_dataset_features(robot.action_features, \"action\")\n",
        "obs_features = hw_to_dataset_features(robot.observation_features, \"observation\")\n",
        "dataset_features = {**action_features, **obs_features}"
      ]
    },
    {
      "cell_type": "code",
      "execution_count": null,
      "metadata": {},
      "outputs": [],
      "source": [
        "# Connect to robot\n",
        "robot.connect()\n",
        "print(\"✓ Robot connected successfully\")\n",
        "\n",
        "# Utility function for precise timing\n",
        "def busy_wait(duration):\n",
        "    \"\"\"Precise timing for control loop\"\"\"\n",
        "    if duration > 0:\n",
        "        end_time = time.perf_counter() + duration\n",
        "        while time.perf_counter() < end_time:\n",
        "            pass\n",
        "\n",
        "print(f\"Starting inference for {INFERENCE_TIME_SEC} seconds...\")\n",
        "print(f\"Task: {TASK_DESCRIPTION}\")"
      ]
    },
    {
      "cell_type": "code",
      "execution_count": null,
      "metadata": {},
      "outputs": [],
      "source": [
        "start_time = time.perf_counter()\n",
        "num_steps = int(INFERENCE_TIME_SEC * FPS)\n",
        "paused = False\n",
        "\n",
        "try:\n",
        "    for step in range(num_steps):\n",
        "        loop_start = time.perf_counter()\n",
        "        \n",
        "        # Capture observation from robot\n",
        "        observation = robot.get_observation()\n",
        "        \n",
        "        observation_frame = build_dataset_frame(dataset_features, observation, prefix=\"observation\")\n",
        "        action_values = predict_action(\n",
        "                observation_frame,\n",
        "                policy,\n",
        "                get_safe_torch_device(policy.config.device),\n",
        "                policy.config.use_amp,\n",
        "                task=TASK_DESCRIPTION,\n",
        "                robot_type=robot.robot_type,\n",
        "            )\n",
        "        action = {key: action_values[i].item() for i, key in enumerate(robot.action_features)}\n",
        "        \n",
        "        # Send action to robot\n",
        "        robot.send_action(action)\n",
        "        \n",
        "        # Progress logging\n",
        "        if step % (FPS * 5) == 0:  # Every 5 seconds\n",
        "            elapsed = time.perf_counter() - start_time\n",
        "            remaining = INFERENCE_TIME_SEC - elapsed\n",
        "            print(f\"Step {step}/{num_steps} | {elapsed:.1f}s elapsed | {remaining:.1f}s remaining\")\n",
        "        \n",
        "        # Maintain precise timing\n",
        "        dt = time.perf_counter() - loop_start\n",
        "        busy_wait(1/FPS - dt)\n",
        "        \n",
        "except KeyboardInterrupt:\n",
        "    print(\"\\n Inference interrupted by user\")\n",
        "    \n",
        "except Exception as e:\n",
        "    print(f\"\\n Error during inference: {e}\")\n",
        "    \n",
        "finally:\n",
        "    # Always disconnect robot\n",
        "    robot.disconnect()\n",
        "    print(\"\\n✓ Robot disconnected safely\")\n",
        "    \n",
        "total_time = time.perf_counter() - start_time\n",
        "print(f\" Inference completed in {total_time:.1f} seconds\")\n",
        "print(f\" Average FPS: {step / total_time:.1f}\")\n"
      ]
    },
    {
      "cell_type": "code",
      "execution_count": null,
      "metadata": {},
      "outputs": [],
      "source": [
        "# Example: Add custom state information (like in robotbuilder inference)\n",
        "def add_custom_state(observation, pick_target=None, place_target=None):\n",
        "    \"\"\"Add custom state information to observation\"\"\"\n",
        "    if pick_target is not None and place_target is not None:\n",
        "        # Normalize targets to [0,1] if needed\n",
        "        norm_pick = torch.tensor(pick_target, dtype=torch.float32)\n",
        "        norm_place = torch.tensor(place_target, dtype=torch.float32)\n",
        "        \n",
        "        # Append to state\n",
        "        observation[\"observation.state\"] = torch.cat([\n",
        "            observation[\"observation.state\"], \n",
        "            norm_pick, \n",
        "            norm_place\n",
        "        ])\n",
        "    \n",
        "    return observation\n",
        "\n",
        "# Usage in inference loop:\n",
        "# observation = add_custom_state(observation, pick_target=[0.5, 0.3], place_target=[0.8, 0.7])\n"
      ]
    }
  ],
  "metadata": {
    "kernelspec": {
      "display_name": "caferacer",
      "language": "python",
      "name": "python3"
    },
    "language_info": {
      "codemirror_mode": {
        "name": "ipython",
        "version": 3
      },
      "file_extension": ".py",
      "mimetype": "text/x-python",
      "name": "python",
      "nbconvert_exporter": "python",
      "pygments_lexer": "ipython3",
      "version": "3.10.9"
    }
  },
  "nbformat": 4,
  "nbformat_minor": 2
}
